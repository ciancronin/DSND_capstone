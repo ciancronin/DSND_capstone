{
 "cells": [
  {
   "cell_type": "markdown",
   "metadata": {},
   "source": [
    "# Sparkify - A Study of Customer Churn"
   ]
  },
  {
   "attachments": {},
   "cell_type": "markdown",
   "metadata": {},
   "source": [
    "![images/sparkifyimage.png](images/sparkifyimage.png)"
   ]
  },
  {
   "cell_type": "markdown",
   "metadata": {},
   "source": [
    "# Introduction\n",
    "\n",
    "This analysis was taken for a fictional company called Sparkify, a music subscription service, to understand customer churn and to model it so we can understand current and future customer behaviour.\n",
    "\n",
    "Churn itself is not always a bad thing as it is natural that some customers would stop using a service for many various reasons, but it can also point to specific issues, or experiences, underlying a customers interactions with a product or service that should be highlighted and evaluated for future product development.\n",
    "\n",
    "There is also the potential to focus on which customers have the highest likelihood of churning in order to intervene in their traditional customer lifecycle to help extend their usage of the service. This would focus resources and trend analysis onto a smaller group of users so as to better incentivise their usage of the service going forward.\n",
    "\n",
    "For the technical side of this project, this project uses PySpark for a sample of the larger dataset and was of particular interest to me due to my interest in scaling an analysis to a much large dataset. Application to PySpark to model customer churn sounded like the perfect opportunity to apply the skills that I've used during the Data Science Nanodegree to an interesting 'real world' project."
   ]
  },
  {
   "cell_type": "markdown",
   "metadata": {},
   "source": [
    "# Data Exploration and Feature Engineering\n",
    "\n",
    "After the initial exploratory analysis the useful fields from the dataset were summarised below:\n",
    "* gender\n",
    "* level\n",
    "* page\n",
    "* registration\n",
    "* ts (event timestamp)\n",
    "\n",
    "I defined churn as the event where a user is confirmed as having cancelled their subscription to the service. This allowed me to provide a comparative analysis between churned and not churned users for gender, level, and using a combination of timestamps and page, per user page usage. The below graphs are the results:"
   ]
  },
  {
   "attachments": {},
   "cell_type": "markdown",
   "metadata": {},
   "source": [
    "### Churn by Level (Free vs Paid)\n",
    "![images/levelchurn.png](images/levelchurn.png)\n",
    "\n",
    "### Churn by Gender\n",
    "![images/genderchurn.png](images/genderchurn.png)\n",
    "\n",
    "### Churn by Page Usage\n",
    "![images/pageschurn.png](images/pageschurn.png)"
   ]
  },
  {
   "cell_type": "markdown",
   "metadata": {},
   "source": [
    "The above showed some very interesting trends within the data, and gave the indication that there were signals existing within the dataset which would be used to model user churn.\n",
    "\n",
    "The 'Churn by Level' analysis shoed that there wasn't much difference between free and paid users churning from the service, but the 'Churn by Gender' showed a skew towards Male customers churning.\n",
    "\n",
    "The 'Churn by Page' graph shows the most interesting results as it seems that there are several factors being included in this graph.\n",
    "\n",
    "1. It seems that general usage for people that churn is much higher than users that didn't churn, this could be indicative of users that use a service too much may be more likely to experience 'burnout' churn.\n",
    "2. Churned users experience about three times as many advert rolls than non-churned users, this could be one of the reasons that users decided to churn in the first place\n",
    "3. Churned users thumbs up'd about 2.5 times as many songs as non-churned users, but more interestingly, users that churned thumbs down'd songs over 5 times more than not churned users. Meaning that churned users more signifcantly disliked the songs than not churned users. A stat that could have led to the churn in the first place (alongside 2)\n",
    "\n",
    "All very interestig results of the exploratory analysis, and meant that using these fields in the modelling would likely yield good results."
   ]
  },
  {
   "attachments": {},
   "cell_type": "markdown",
   "metadata": {},
   "source": [
    "# Modelling Customer Churn Signals\n",
    "\n",
    "Modelling of these newly created features was then completed, and due to the continuous numerical features of the dataset the following modelling techniques were chosen to represent the customer churn.\n",
    "* Logistic Regression\n",
    "* Random Forest\n",
    "* Gradient Boosted Trees\n",
    "\n",
    "The metrics tested were F1, Precision, Recall and Accuracy. But emphasis on the F1 score of the model was considered as it gives a balanced approach to the combination of Precision and Recall. With more of a subject matter understanding the F Beta score could have been undertaken to allow for tradeoffs between Recall and Precision (with potentially more of a focus on Recall (churned users)), but for the purposes of this project the F1 score was acceptable.\n",
    "\n",
    "The typical methodology with which to approach a machine learning problem was then completed: test and training split of data (80%/20% in this case), pipeline creation and feature scaling\n",
    "\n",
    "The results of these models were then compared and the following set of testing metrics were created:\n",
    "![iamges/results.png](images/results.png)\n",
    "\n",
    "The model results were Cross Validated so as to ensure minimal bias with the testing metrics, and the clear winner of Random Forest came out as per the above table. It won across all testing metrics and had a good accuracy score of 83%."
   ]
  },
  {
   "cell_type": "markdown",
   "metadata": {},
   "source": [
    "# Conclusion and Next Steps\n",
    "\n",
    "From the above we've shown that it is possible to create a model with a good accuracy and F1 score on top of this dataset, which can give an indication of whether a user has a high likelihood of churning from the service.\n",
    "\n",
    "Deploying and using this model from a business persepctive could help sales teams or product engineers focus on users from a marketing point of view, to send marketing incentives to - to encourage further participation in the service, or from an analysis point of view in order to track trends in users that have a certain probability of churning and testing features on them via A/B testing and other such analytical techniques.\n",
    "\n",
    "For next steps on this project you could focus on several areas:\n",
    "1. Increasing the sample size of the data as there were only 225 distinct users, only 52 of which who had churned, included in this dataset. Increasing the sample size would increase the accuracy and decrease bias resulting from the low sample size\n",
    "2. You could include further signals into the dataset or redefine how churn is calculated from within the data. Both of which could potentially increase the models accuracy so long as they are relevant dataset features.\n",
    "3. Further expand upon this analysis by creating more features, training more models, exploring more of the data and by tuning the testing metrics to be more relevant to this subject matter. All of which can be quick wins in some cases.\n",
    "\n",
    "If you wish to view the code behind the above analysis and modelling techniques they are available [here](https://github.com/ciancronin/DSND_capstone)\n",
    "\n",
    "\n",
    "# by Cian Cronin"
   ]
  }
 ],
 "metadata": {
  "kernelspec": {
   "display_name": "Python 3",
   "language": "python",
   "name": "python3"
  },
  "language_info": {
   "codemirror_mode": {
    "name": "ipython",
    "version": 3
   },
   "file_extension": ".py",
   "mimetype": "text/x-python",
   "name": "python",
   "nbconvert_exporter": "python",
   "pygments_lexer": "ipython3",
   "version": "3.6.5"
  }
 },
 "nbformat": 4,
 "nbformat_minor": 2
}
