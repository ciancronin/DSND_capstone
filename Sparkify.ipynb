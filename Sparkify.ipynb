{
 "cells": [
  {
   "cell_type": "markdown",
   "metadata": {},
   "source": [
    "# Sparkify Project Workspace\n",
    "This workspace contains a tiny subset (128MB) of the full dataset available (12GB). Feel free to use this workspace to build your project, or to explore a smaller subset with Spark before deploying your cluster on the cloud. Instructions for setting up your Spark cluster is included in the last lesson of the Extracurricular Spark Course content.\n",
    "\n",
    "You can follow the steps below to guide your data analysis and model building portion of this project."
   ]
  },
  {
   "cell_type": "code",
   "execution_count": 1,
   "metadata": {},
   "outputs": [],
   "source": [
    "# import libraries\n",
    "from pyspark.sql import SparkSession\n",
    "import pyspark.sql.functions as pfunctions\n",
    "import pyspark.sql.types as ptypes\n",
    "\n",
    "\n",
    "from pyspark.ml import Pipeline\n",
    "from pyspark.ml.classification import LogisticRegression, RandomForestClassifier, GBTClassifier, DecisionTreeClassifier\n",
    "from pyspark.ml.evaluation import MulticlassClassificationEvaluator\n",
    "from pyspark.ml.feature import VectorAssembler, MinMaxScaler \n",
    "from pyspark.ml.regression import LinearRegression\n",
    "from pyspark.ml.tuning import CrossValidator, ParamGridBuilder\n",
    "\n",
    "import pandas as pd\n",
    "import seaborn as sns\n",
    "import matplotlib.pyplot as plt\n",
    "%matplotlib inline"
   ]
  },
  {
   "cell_type": "code",
   "execution_count": 2,
   "metadata": {},
   "outputs": [],
   "source": [
    "# create a Spark session\n",
    "spark = SparkSession.builder \\\n",
    "    .master(\"local\") \\\n",
    "    .appName(\"Analysis\") \\\n",
    "    .getOrCreate()"
   ]
  },
  {
   "cell_type": "markdown",
   "metadata": {},
   "source": [
    "# Load and Clean Dataset\n",
    "In this workspace, the mini-dataset file is `mini_sparkify_event_data.json`. Load and clean the dataset, checking for invalid or missing data - for example, records without userids or sessionids. "
   ]
  },
  {
   "cell_type": "code",
   "execution_count": 3,
   "metadata": {},
   "outputs": [
    {
     "data": {
      "text/plain": [
       "DataFrame[artist: string, auth: string, firstName: string, gender: string, itemInSession: bigint, lastName: string, length: double, level: string, location: string, method: string, page: string, registration: bigint, sessionId: bigint, song: string, status: bigint, ts: bigint, userAgent: string, userId: string]"
      ]
     },
     "execution_count": 3,
     "metadata": {},
     "output_type": "execute_result"
    }
   ],
   "source": [
    "df = spark.read.json('mini_sparkify_event_data.json')\n",
    "df.persist()"
   ]
  },
  {
   "cell_type": "code",
   "execution_count": 4,
   "metadata": {},
   "outputs": [
    {
     "name": "stdout",
     "output_type": "stream",
     "text": [
      "root\n",
      " |-- artist: string (nullable = true)\n",
      " |-- auth: string (nullable = true)\n",
      " |-- firstName: string (nullable = true)\n",
      " |-- gender: string (nullable = true)\n",
      " |-- itemInSession: long (nullable = true)\n",
      " |-- lastName: string (nullable = true)\n",
      " |-- length: double (nullable = true)\n",
      " |-- level: string (nullable = true)\n",
      " |-- location: string (nullable = true)\n",
      " |-- method: string (nullable = true)\n",
      " |-- page: string (nullable = true)\n",
      " |-- registration: long (nullable = true)\n",
      " |-- sessionId: long (nullable = true)\n",
      " |-- song: string (nullable = true)\n",
      " |-- status: long (nullable = true)\n",
      " |-- ts: long (nullable = true)\n",
      " |-- userAgent: string (nullable = true)\n",
      " |-- userId: string (nullable = true)\n",
      "\n"
     ]
    }
   ],
   "source": [
    "df.printSchema()"
   ]
  },
  {
   "cell_type": "code",
   "execution_count": 5,
   "metadata": {},
   "outputs": [
    {
     "name": "stdout",
     "output_type": "stream",
     "text": [
      "Rows: 286500 \n",
      "Columns: 18\n"
     ]
    }
   ],
   "source": [
    "print(\"Rows: {} \\nColumns: {}\".format(df.count(), len(df.columns)))"
   ]
  },
  {
   "cell_type": "code",
   "execution_count": 6,
   "metadata": {},
   "outputs": [
    {
     "data": {
      "text/html": [
       "<div>\n",
       "<style scoped>\n",
       "    .dataframe tbody tr th:only-of-type {\n",
       "        vertical-align: middle;\n",
       "    }\n",
       "\n",
       "    .dataframe tbody tr th {\n",
       "        vertical-align: top;\n",
       "    }\n",
       "\n",
       "    .dataframe thead th {\n",
       "        text-align: right;\n",
       "    }\n",
       "</style>\n",
       "<table border=\"1\" class=\"dataframe\">\n",
       "  <thead>\n",
       "    <tr style=\"text-align: right;\">\n",
       "      <th></th>\n",
       "      <th>null_count</th>\n",
       "    </tr>\n",
       "  </thead>\n",
       "  <tbody>\n",
       "    <tr>\n",
       "      <th>artist</th>\n",
       "      <td>58392</td>\n",
       "    </tr>\n",
       "    <tr>\n",
       "      <th>auth</th>\n",
       "      <td>0</td>\n",
       "    </tr>\n",
       "    <tr>\n",
       "      <th>firstName</th>\n",
       "      <td>8346</td>\n",
       "    </tr>\n",
       "    <tr>\n",
       "      <th>gender</th>\n",
       "      <td>8346</td>\n",
       "    </tr>\n",
       "    <tr>\n",
       "      <th>itemInSession</th>\n",
       "      <td>0</td>\n",
       "    </tr>\n",
       "    <tr>\n",
       "      <th>lastName</th>\n",
       "      <td>8346</td>\n",
       "    </tr>\n",
       "    <tr>\n",
       "      <th>length</th>\n",
       "      <td>58392</td>\n",
       "    </tr>\n",
       "    <tr>\n",
       "      <th>level</th>\n",
       "      <td>0</td>\n",
       "    </tr>\n",
       "    <tr>\n",
       "      <th>location</th>\n",
       "      <td>8346</td>\n",
       "    </tr>\n",
       "    <tr>\n",
       "      <th>method</th>\n",
       "      <td>0</td>\n",
       "    </tr>\n",
       "    <tr>\n",
       "      <th>page</th>\n",
       "      <td>0</td>\n",
       "    </tr>\n",
       "    <tr>\n",
       "      <th>registration</th>\n",
       "      <td>8346</td>\n",
       "    </tr>\n",
       "    <tr>\n",
       "      <th>sessionId</th>\n",
       "      <td>0</td>\n",
       "    </tr>\n",
       "    <tr>\n",
       "      <th>song</th>\n",
       "      <td>58392</td>\n",
       "    </tr>\n",
       "    <tr>\n",
       "      <th>status</th>\n",
       "      <td>0</td>\n",
       "    </tr>\n",
       "    <tr>\n",
       "      <th>ts</th>\n",
       "      <td>0</td>\n",
       "    </tr>\n",
       "    <tr>\n",
       "      <th>userAgent</th>\n",
       "      <td>8346</td>\n",
       "    </tr>\n",
       "    <tr>\n",
       "      <th>userId</th>\n",
       "      <td>0</td>\n",
       "    </tr>\n",
       "  </tbody>\n",
       "</table>\n",
       "</div>"
      ],
      "text/plain": [
       "               null_count\n",
       "artist              58392\n",
       "auth                    0\n",
       "firstName            8346\n",
       "gender               8346\n",
       "itemInSession           0\n",
       "lastName             8346\n",
       "length              58392\n",
       "level                   0\n",
       "location             8346\n",
       "method                  0\n",
       "page                    0\n",
       "registration         8346\n",
       "sessionId               0\n",
       "song                58392\n",
       "status                  0\n",
       "ts                      0\n",
       "userAgent            8346\n",
       "userId                  0"
      ]
     },
     "execution_count": 6,
     "metadata": {},
     "output_type": "execute_result"
    }
   ],
   "source": [
    "# PySpark Null analysis reference https://stackoverflow.com/questions/44627386/how-to-find-count-of-null-and-nan-values-for-each-column-in-a-pyspark-dataframe\n",
    "missing = df.select([pfunctions.count(pfunctions.when(pfunctions.isnull(c), c)).alias(c) for c in df.columns]).toPandas().T\n",
    "missing.columns = ['null_count']\n",
    "missing"
   ]
  },
  {
   "cell_type": "code",
   "execution_count": 7,
   "metadata": {},
   "outputs": [
    {
     "name": "stdout",
     "output_type": "stream",
     "text": [
      "+------+\n",
      "|userId|\n",
      "+------+\n",
      "|      |\n",
      "+------+\n",
      "\n"
     ]
    }
   ],
   "source": [
    "# Check firstName missing values and corresponding userId matches\n",
    "df.where(pfunctions.isnull(df.firstName)).select('userId').distinct().show()\\"
   ]
  },
  {
   "cell_type": "code",
   "execution_count": 8,
   "metadata": {},
   "outputs": [
    {
     "data": {
      "text/plain": [
       "8346"
      ]
     },
     "execution_count": 8,
     "metadata": {},
     "output_type": "execute_result"
    }
   ],
   "source": [
    "# Only empty userId string values are present (\"\") check how many values for this are in userId\n",
    "df.count() - df.filter(df.userId != \"\").count()"
   ]
  },
  {
   "cell_type": "code",
   "execution_count": 9,
   "metadata": {},
   "outputs": [
    {
     "data": {
      "text/plain": [
       "DataFrame[artist: string, auth: string, firstName: string, gender: string, itemInSession: bigint, lastName: string, length: double, level: string, location: string, method: string, page: string, registration: bigint, sessionId: bigint, song: string, status: bigint, ts: bigint, userAgent: string, userId: string]"
      ]
     },
     "execution_count": 9,
     "metadata": {},
     "output_type": "execute_result"
    }
   ],
   "source": [
    "# This matches the amount for firstName so drop all values of \"\" for userId as we can't tie in any user information\n",
    "# as would be required by this project\n",
    "df_clean = df.filter(df.userId != \"\")\n",
    "df_clean.persist()"
   ]
  },
  {
   "cell_type": "code",
   "execution_count": 10,
   "metadata": {},
   "outputs": [],
   "source": [
    "# Rest of missing information seems to be missing song information, but the information present would\n",
    "# still be useful for modelling purposes"
   ]
  },
  {
   "cell_type": "markdown",
   "metadata": {},
   "source": [
    "# Exploratory Data Analysis\n",
    "When you're working with the full dataset, perform EDA by loading a small subset of the data and doing basic manipulations within Spark. In this workspace, you are already provided a small subset of data you can explore.\n",
    "\n",
    "### Define Churn\n",
    "\n",
    "Once you've done some preliminary analysis, create a column `Churn` to use as the label for your model. I suggest using the `Cancellation Confirmation` events to define your churn, which happen for both paid and free users. As a bonus task, you can also look into the `Downgrade` events.\n",
    "\n",
    "### Explore Data\n",
    "Once you've defined churn, perform some exploratory data analysis to observe the behavior for users who stayed vs users who churned. You can start by exploring aggregates on these two groups of users, observing how much of a specific action they experienced per a certain time unit or number of songs played."
   ]
  },
  {
   "cell_type": "code",
   "execution_count": 11,
   "metadata": {},
   "outputs": [
    {
     "data": {
      "text/plain": [
       "[Row(artist='Martha Tilston', auth='Logged In', firstName='Colin', gender='M', itemInSession=50, lastName='Freeman', length=277.89016, level='paid', location='Bakersfield, CA', method='PUT', page='NextSong', registration=1538173362000, sessionId=29, song='Rockpools', status=200, ts=1538352117000, userAgent='Mozilla/5.0 (Windows NT 6.1; WOW64; rv:31.0) Gecko/20100101 Firefox/31.0', userId='30')]"
      ]
     },
     "execution_count": 11,
     "metadata": {},
     "output_type": "execute_result"
    }
   ],
   "source": [
    "# Take out the first row for examination\n",
    "df_clean.take(1)"
   ]
  },
  {
   "cell_type": "code",
   "execution_count": 12,
   "metadata": {},
   "outputs": [
    {
     "name": "stdout",
     "output_type": "stream",
     "text": [
      "+--------------------+--------------------+---------+--------+--------------------+--------------------+\n",
      "|              artist|                song|firstName|lastName|            location|           userAgent|\n",
      "+--------------------+--------------------+---------+--------+--------------------+--------------------+\n",
      "|      Martha Tilston|           Rockpools|    Colin| Freeman|     Bakersfield, CA|Mozilla/5.0 (Wind...|\n",
      "|    Five Iron Frenzy|              Canada|    Micah|    Long|Boston-Cambridge-...|\"Mozilla/5.0 (Win...|\n",
      "|        Adam Lambert|   Time For Miracles|    Colin| Freeman|     Bakersfield, CA|Mozilla/5.0 (Wind...|\n",
      "|              Enigma|Knocking On Forbi...|    Micah|    Long|Boston-Cambridge-...|\"Mozilla/5.0 (Win...|\n",
      "|           Daft Punk|Harder Better Fas...|    Colin| Freeman|     Bakersfield, CA|Mozilla/5.0 (Wind...|\n",
      "|The All-American ...|      Don't Leave Me|    Micah|    Long|Boston-Cambridge-...|\"Mozilla/5.0 (Win...|\n",
      "|The Velvet Underg...|         Run Run Run|    Micah|    Long|Boston-Cambridge-...|\"Mozilla/5.0 (Win...|\n",
      "|        Starflyer 59|Passengers (Old A...|    Colin| Freeman|     Bakersfield, CA|Mozilla/5.0 (Wind...|\n",
      "|                null|                null|    Colin| Freeman|     Bakersfield, CA|Mozilla/5.0 (Wind...|\n",
      "+--------------------+--------------------+---------+--------+--------------------+--------------------+\n",
      "\n"
     ]
    }
   ],
   "source": [
    "# Looking at the above output there are columns that jump out as not that useful\n",
    "# Artist, Song, firstName, lastName, location, userAgent (due to it being potentially hard to split info from)\n",
    "\n",
    "# Therefore I'm going to pull out some information from these columns to take a look\n",
    "df_clean.select(['artist', 'song', 'firstName', 'lastName', 'location', 'userAgent']).limit(9).show(10)"
   ]
  },
  {
   "cell_type": "code",
   "execution_count": 13,
   "metadata": {},
   "outputs": [],
   "source": [
    "# Then exploration of the remaining columns"
   ]
  },
  {
   "cell_type": "code",
   "execution_count": 14,
   "metadata": {},
   "outputs": [
    {
     "name": "stdout",
     "output_type": "stream",
     "text": [
      "+---------+\n",
      "|     auth|\n",
      "+---------+\n",
      "|Cancelled|\n",
      "|Logged In|\n",
      "+---------+\n",
      "\n"
     ]
    }
   ],
   "source": [
    "df_clean.select('auth').distinct().show() # Not very useful"
   ]
  },
  {
   "cell_type": "code",
   "execution_count": 15,
   "metadata": {},
   "outputs": [
    {
     "name": "stdout",
     "output_type": "stream",
     "text": [
      "+-----+\n",
      "|level|\n",
      "+-----+\n",
      "| free|\n",
      "| paid|\n",
      "+-----+\n",
      "\n"
     ]
    }
   ],
   "source": [
    "df_clean.select('level').distinct().show() # Breakdown of level (free vs paid) could also be useful"
   ]
  },
  {
   "cell_type": "code",
   "execution_count": 16,
   "metadata": {},
   "outputs": [
    {
     "name": "stdout",
     "output_type": "stream",
     "text": [
      "+------+\n",
      "|status|\n",
      "+------+\n",
      "|   307|\n",
      "|   404|\n",
      "|   200|\n",
      "+------+\n",
      "\n"
     ]
    }
   ],
   "source": [
    "df_clean.select('status').distinct().show() # Assuming this is error status codes, could also relate to churn"
   ]
  },
  {
   "cell_type": "code",
   "execution_count": 17,
   "metadata": {},
   "outputs": [
    {
     "name": "stdout",
     "output_type": "stream",
     "text": [
      "+------+\n",
      "|method|\n",
      "+------+\n",
      "|   PUT|\n",
      "|   GET|\n",
      "+------+\n",
      "\n"
     ]
    }
   ],
   "source": [
    "df_clean.select('method').distinct().show() # Assuming this is a HTTP request, can't imagine it being useful"
   ]
  },
  {
   "cell_type": "code",
   "execution_count": 18,
   "metadata": {},
   "outputs": [
    {
     "name": "stdout",
     "output_type": "stream",
     "text": [
      "+-------+-----------------+\n",
      "|summary|           length|\n",
      "+-------+-----------------+\n",
      "|  count|           228108|\n",
      "|   mean|249.1171819778458|\n",
      "| stddev|99.23517921058361|\n",
      "|    min|          0.78322|\n",
      "|    max|       3024.66567|\n",
      "+-------+-----------------+\n",
      "\n"
     ]
    }
   ],
   "source": [
    "df_clean.select('length').describe().show() # Similar to song info, can't imagine this is too useful"
   ]
  },
  {
   "cell_type": "code",
   "execution_count": 19,
   "metadata": {},
   "outputs": [
    {
     "name": "stdout",
     "output_type": "stream",
     "text": [
      "+-------+------------------+\n",
      "|summary|     itemInSession|\n",
      "+-------+------------------+\n",
      "|  count|            278154|\n",
      "|   mean|114.89918174824018|\n",
      "| stddev|  129.851729399489|\n",
      "|    min|                 0|\n",
      "|    max|              1321|\n",
      "+-------+------------------+\n",
      "\n"
     ]
    }
   ],
   "source": [
    "df_clean.select('itemInSession').describe().show() # Not very useful to know which item position an event is"
   ]
  },
  {
   "cell_type": "code",
   "execution_count": 20,
   "metadata": {},
   "outputs": [
    {
     "name": "stdout",
     "output_type": "stream",
     "text": [
      "+-------+--------------------+\n",
      "|summary|        registration|\n",
      "+-------+--------------------+\n",
      "|  count|              278154|\n",
      "|   mean|1.535358834084427...|\n",
      "| stddev| 3.291321616327586E9|\n",
      "|    min|       1521380675000|\n",
      "|    max|       1543247354000|\n",
      "+-------+--------------------+\n",
      "\n"
     ]
    }
   ],
   "source": [
    "df_clean.select('registration').describe().show() # Timestamp of registration (assumably in unix format)"
   ]
  },
  {
   "cell_type": "code",
   "execution_count": 21,
   "metadata": {},
   "outputs": [
    {
     "name": "stdout",
     "output_type": "stream",
     "text": [
      "+-------+--------------------+\n",
      "|summary|                  ts|\n",
      "+-------+--------------------+\n",
      "|  count|              278154|\n",
      "|   mean|1.540958915431871...|\n",
      "| stddev|1.5068287123306298E9|\n",
      "|    min|       1538352117000|\n",
      "|    max|       1543799476000|\n",
      "+-------+--------------------+\n",
      "\n"
     ]
    }
   ],
   "source": [
    "df_clean.select('ts').describe().show() # Timestamp of event (assumably in unix format)"
   ]
  },
  {
   "cell_type": "code",
   "execution_count": 22,
   "metadata": {},
   "outputs": [
    {
     "name": "stdout",
     "output_type": "stream",
     "text": [
      "+-------+------------------+\n",
      "|summary|         sessionId|\n",
      "+-------+------------------+\n",
      "|  count|            278154|\n",
      "|   mean|1042.5616241362698|\n",
      "| stddev| 726.5010362219813|\n",
      "|    min|                 1|\n",
      "|    max|              2474|\n",
      "+-------+------------------+\n",
      "\n"
     ]
    }
   ],
   "source": [
    "df_clean.select('sessionId').describe().show() # Unique ID of sessions"
   ]
  },
  {
   "cell_type": "code",
   "execution_count": 23,
   "metadata": {},
   "outputs": [
    {
     "data": {
      "text/html": [
       "<div>\n",
       "<style scoped>\n",
       "    .dataframe tbody tr th:only-of-type {\n",
       "        vertical-align: middle;\n",
       "    }\n",
       "\n",
       "    .dataframe tbody tr th {\n",
       "        vertical-align: top;\n",
       "    }\n",
       "\n",
       "    .dataframe thead th {\n",
       "        text-align: right;\n",
       "    }\n",
       "</style>\n",
       "<table border=\"1\" class=\"dataframe\">\n",
       "  <thead>\n",
       "    <tr style=\"text-align: right;\">\n",
       "      <th></th>\n",
       "      <th>page</th>\n",
       "    </tr>\n",
       "  </thead>\n",
       "  <tbody>\n",
       "    <tr>\n",
       "      <th>0</th>\n",
       "      <td>About</td>\n",
       "    </tr>\n",
       "    <tr>\n",
       "      <th>1</th>\n",
       "      <td>Add Friend</td>\n",
       "    </tr>\n",
       "    <tr>\n",
       "      <th>2</th>\n",
       "      <td>Add to Playlist</td>\n",
       "    </tr>\n",
       "    <tr>\n",
       "      <th>3</th>\n",
       "      <td>Cancel</td>\n",
       "    </tr>\n",
       "    <tr>\n",
       "      <th>4</th>\n",
       "      <td>Cancellation Confirmation</td>\n",
       "    </tr>\n",
       "    <tr>\n",
       "      <th>5</th>\n",
       "      <td>Downgrade</td>\n",
       "    </tr>\n",
       "    <tr>\n",
       "      <th>6</th>\n",
       "      <td>Error</td>\n",
       "    </tr>\n",
       "    <tr>\n",
       "      <th>7</th>\n",
       "      <td>Help</td>\n",
       "    </tr>\n",
       "    <tr>\n",
       "      <th>8</th>\n",
       "      <td>Home</td>\n",
       "    </tr>\n",
       "    <tr>\n",
       "      <th>9</th>\n",
       "      <td>Logout</td>\n",
       "    </tr>\n",
       "    <tr>\n",
       "      <th>10</th>\n",
       "      <td>NextSong</td>\n",
       "    </tr>\n",
       "    <tr>\n",
       "      <th>11</th>\n",
       "      <td>Roll Advert</td>\n",
       "    </tr>\n",
       "    <tr>\n",
       "      <th>12</th>\n",
       "      <td>Save Settings</td>\n",
       "    </tr>\n",
       "    <tr>\n",
       "      <th>13</th>\n",
       "      <td>Settings</td>\n",
       "    </tr>\n",
       "    <tr>\n",
       "      <th>14</th>\n",
       "      <td>Submit Downgrade</td>\n",
       "    </tr>\n",
       "    <tr>\n",
       "      <th>15</th>\n",
       "      <td>Submit Upgrade</td>\n",
       "    </tr>\n",
       "    <tr>\n",
       "      <th>16</th>\n",
       "      <td>Thumbs Down</td>\n",
       "    </tr>\n",
       "    <tr>\n",
       "      <th>17</th>\n",
       "      <td>Thumbs Up</td>\n",
       "    </tr>\n",
       "    <tr>\n",
       "      <th>18</th>\n",
       "      <td>Upgrade</td>\n",
       "    </tr>\n",
       "  </tbody>\n",
       "</table>\n",
       "</div>"
      ],
      "text/plain": [
       "                         page\n",
       "0                       About\n",
       "1                  Add Friend\n",
       "2             Add to Playlist\n",
       "3                      Cancel\n",
       "4   Cancellation Confirmation\n",
       "5                   Downgrade\n",
       "6                       Error\n",
       "7                        Help\n",
       "8                        Home\n",
       "9                      Logout\n",
       "10                   NextSong\n",
       "11                Roll Advert\n",
       "12              Save Settings\n",
       "13                   Settings\n",
       "14           Submit Downgrade\n",
       "15             Submit Upgrade\n",
       "16                Thumbs Down\n",
       "17                  Thumbs Up\n",
       "18                    Upgrade"
      ]
     },
     "execution_count": 23,
     "metadata": {},
     "output_type": "execute_result"
    }
   ],
   "source": [
    "df_clean.select('page').distinct().sort('page').toPandas() # Looks like a very useful column"
   ]
  },
  {
   "cell_type": "code",
   "execution_count": 24,
   "metadata": {},
   "outputs": [
    {
     "data": {
      "text/html": [
       "<div>\n",
       "<style scoped>\n",
       "    .dataframe tbody tr th:only-of-type {\n",
       "        vertical-align: middle;\n",
       "    }\n",
       "\n",
       "    .dataframe tbody tr th {\n",
       "        vertical-align: top;\n",
       "    }\n",
       "\n",
       "    .dataframe thead th {\n",
       "        text-align: right;\n",
       "    }\n",
       "</style>\n",
       "<table border=\"1\" class=\"dataframe\">\n",
       "  <thead>\n",
       "    <tr style=\"text-align: right;\">\n",
       "      <th></th>\n",
       "      <th>page</th>\n",
       "      <th>count</th>\n",
       "    </tr>\n",
       "  </thead>\n",
       "  <tbody>\n",
       "    <tr>\n",
       "      <th>0</th>\n",
       "      <td>NextSong</td>\n",
       "      <td>228108</td>\n",
       "    </tr>\n",
       "    <tr>\n",
       "      <th>1</th>\n",
       "      <td>Thumbs Up</td>\n",
       "      <td>12551</td>\n",
       "    </tr>\n",
       "    <tr>\n",
       "      <th>2</th>\n",
       "      <td>Home</td>\n",
       "      <td>10082</td>\n",
       "    </tr>\n",
       "    <tr>\n",
       "      <th>3</th>\n",
       "      <td>Add to Playlist</td>\n",
       "      <td>6526</td>\n",
       "    </tr>\n",
       "    <tr>\n",
       "      <th>4</th>\n",
       "      <td>Add Friend</td>\n",
       "      <td>4277</td>\n",
       "    </tr>\n",
       "    <tr>\n",
       "      <th>5</th>\n",
       "      <td>Roll Advert</td>\n",
       "      <td>3933</td>\n",
       "    </tr>\n",
       "    <tr>\n",
       "      <th>6</th>\n",
       "      <td>Logout</td>\n",
       "      <td>3226</td>\n",
       "    </tr>\n",
       "    <tr>\n",
       "      <th>7</th>\n",
       "      <td>Thumbs Down</td>\n",
       "      <td>2546</td>\n",
       "    </tr>\n",
       "    <tr>\n",
       "      <th>8</th>\n",
       "      <td>Downgrade</td>\n",
       "      <td>2055</td>\n",
       "    </tr>\n",
       "    <tr>\n",
       "      <th>9</th>\n",
       "      <td>Settings</td>\n",
       "      <td>1514</td>\n",
       "    </tr>\n",
       "    <tr>\n",
       "      <th>10</th>\n",
       "      <td>Help</td>\n",
       "      <td>1454</td>\n",
       "    </tr>\n",
       "    <tr>\n",
       "      <th>11</th>\n",
       "      <td>Upgrade</td>\n",
       "      <td>499</td>\n",
       "    </tr>\n",
       "    <tr>\n",
       "      <th>12</th>\n",
       "      <td>About</td>\n",
       "      <td>495</td>\n",
       "    </tr>\n",
       "    <tr>\n",
       "      <th>13</th>\n",
       "      <td>Save Settings</td>\n",
       "      <td>310</td>\n",
       "    </tr>\n",
       "    <tr>\n",
       "      <th>14</th>\n",
       "      <td>Error</td>\n",
       "      <td>252</td>\n",
       "    </tr>\n",
       "    <tr>\n",
       "      <th>15</th>\n",
       "      <td>Submit Upgrade</td>\n",
       "      <td>159</td>\n",
       "    </tr>\n",
       "    <tr>\n",
       "      <th>16</th>\n",
       "      <td>Submit Downgrade</td>\n",
       "      <td>63</td>\n",
       "    </tr>\n",
       "    <tr>\n",
       "      <th>17</th>\n",
       "      <td>Cancel</td>\n",
       "      <td>52</td>\n",
       "    </tr>\n",
       "    <tr>\n",
       "      <th>18</th>\n",
       "      <td>Cancellation Confirmation</td>\n",
       "      <td>52</td>\n",
       "    </tr>\n",
       "  </tbody>\n",
       "</table>\n",
       "</div>"
      ],
      "text/plain": [
       "                         page   count\n",
       "0                    NextSong  228108\n",
       "1                   Thumbs Up   12551\n",
       "2                        Home   10082\n",
       "3             Add to Playlist    6526\n",
       "4                  Add Friend    4277\n",
       "5                 Roll Advert    3933\n",
       "6                      Logout    3226\n",
       "7                 Thumbs Down    2546\n",
       "8                   Downgrade    2055\n",
       "9                    Settings    1514\n",
       "10                       Help    1454\n",
       "11                    Upgrade     499\n",
       "12                      About     495\n",
       "13              Save Settings     310\n",
       "14                      Error     252\n",
       "15             Submit Upgrade     159\n",
       "16           Submit Downgrade      63\n",
       "17                     Cancel      52\n",
       "18  Cancellation Confirmation      52"
      ]
     },
     "execution_count": 24,
     "metadata": {},
     "output_type": "execute_result"
    }
   ],
   "source": [
    "df_clean.groupby('page').count().sort('count', ascending=False).toPandas() # Could be quite useful, skewed though"
   ]
  },
  {
   "cell_type": "code",
   "execution_count": 25,
   "metadata": {},
   "outputs": [],
   "source": [
    "# Create a view to leverage SQL syntax going forward\n",
    "df_clean.createOrReplaceTempView('logs')"
   ]
  },
  {
   "cell_type": "code",
   "execution_count": 26,
   "metadata": {},
   "outputs": [
    {
     "name": "stdout",
     "output_type": "stream",
     "text": [
      "+---------+\n",
      "|dis_users|\n",
      "+---------+\n",
      "|      225|\n",
      "+---------+\n",
      "\n"
     ]
    }
   ],
   "source": [
    "spark.sql('SELECT COUNT(DISTINCT userId) AS dis_users FROM logs').show()"
   ]
  },
  {
   "cell_type": "code",
   "execution_count": 27,
   "metadata": {},
   "outputs": [],
   "source": [
    "# To split the dataset into test and training datasets (but keeping together user events) do the following\n",
    "\n",
    "# Create a dataset with users that churned (1 represents churn)\n",
    "churned = spark.sql('SELECT DISTINCT userId, 1 as churn FROM logs WHERE Page = \"Cancellation Confirmation\"')\n",
    "\n",
    "# Then a datasets with users that didn't churn (0 represents no churn)\n",
    "not_churned = spark.sql('SELECT DISTINCT userId, 0 as churn FROM logs \\\n",
    "                      WHERE userId NOT IN (SELECT DISTINCT userId FROM logs \\\n",
    "                      WHERE Page = \"Cancellation Confirmation\")')\n",
    "\n",
    "# Union them together\n",
    "churn_df = churned.union(not_churned)\n",
    "\n",
    "# Create view to reference in SQL\n",
    "churn_df.createOrReplaceTempView('churn')\n",
    "\n",
    "# Add in random shuffling element to userIds\n",
    "churn_df = spark.sql('SELECT * FROM churn ORDER BY RAND()')\n",
    "\n",
    "# Recreate this view with the random shuffle\n",
    "churn_df.createOrReplaceTempView('churn')"
   ]
  },
  {
   "cell_type": "code",
   "execution_count": 28,
   "metadata": {},
   "outputs": [
    {
     "data": {
      "text/html": [
       "<div>\n",
       "<style scoped>\n",
       "    .dataframe tbody tr th:only-of-type {\n",
       "        vertical-align: middle;\n",
       "    }\n",
       "\n",
       "    .dataframe tbody tr th {\n",
       "        vertical-align: top;\n",
       "    }\n",
       "\n",
       "    .dataframe thead th {\n",
       "        text-align: right;\n",
       "    }\n",
       "</style>\n",
       "<table border=\"1\" class=\"dataframe\">\n",
       "  <thead>\n",
       "    <tr style=\"text-align: right;\">\n",
       "      <th></th>\n",
       "      <th>churn</th>\n",
       "      <th>userId</th>\n",
       "    </tr>\n",
       "  </thead>\n",
       "  <tbody>\n",
       "    <tr>\n",
       "      <th>0</th>\n",
       "      <td>0</td>\n",
       "      <td>173</td>\n",
       "    </tr>\n",
       "    <tr>\n",
       "      <th>1</th>\n",
       "      <td>1</td>\n",
       "      <td>52</td>\n",
       "    </tr>\n",
       "  </tbody>\n",
       "</table>\n",
       "</div>"
      ],
      "text/plain": [
       "   churn  userId\n",
       "0      0     173\n",
       "1      1      52"
      ]
     },
     "execution_count": 28,
     "metadata": {},
     "output_type": "execute_result"
    }
   ],
   "source": [
    "# visualize the distribution of users between churning or not\n",
    "churn_pd_df = churn_df.toPandas()\n",
    "churn_pd_df.groupby('churn', as_index = False).count()"
   ]
  },
  {
   "cell_type": "code",
   "execution_count": 29,
   "metadata": {},
   "outputs": [],
   "source": [
    "# Churn has been defined in our datasets, join it back into the overall dataset\n",
    "# churn_pd_df.head()\n",
    "full_churn_df = df_clean.join(churn_df, on = 'userId')"
   ]
  },
  {
   "cell_type": "code",
   "execution_count": 30,
   "metadata": {},
   "outputs": [],
   "source": [
    "# Now to investigate some trends between churned and not churned values\n",
    "full_churn_df.createOrReplaceTempView('churn_full')"
   ]
  },
  {
   "cell_type": "code",
   "execution_count": 31,
   "metadata": {},
   "outputs": [
    {
     "name": "stdout",
     "output_type": "stream",
     "text": [
      "+-----+-----+------+\n",
      "|churn|level| count|\n",
      "+-----+-----+------+\n",
      "|    0| free| 43333|\n",
      "|    0| paid|189957|\n",
      "|    1| paid| 32476|\n",
      "|    1| free| 12388|\n",
      "+-----+-----+------+\n",
      "\n"
     ]
    }
   ],
   "source": [
    "# Comparison of the level of the accounts (free vs paid)\n",
    "# full_churn_df.groupBy(['churn','level']).count().show()\n",
    "spark.sql('SELECT churn, level, COUNT(level) AS count FROM churn_full GROUP BY 1, 2').show()"
   ]
  },
  {
   "cell_type": "code",
   "execution_count": 32,
   "metadata": {},
   "outputs": [],
   "source": [
    "# Build a visualisation for the level amounts based on proportion\n",
    "level_df = spark.sql('SELECT churn, level, COUNT(level) AS count FROM churn_full GROUP BY 1, 2').toPandas()"
   ]
  },
  {
   "cell_type": "code",
   "execution_count": 33,
   "metadata": {},
   "outputs": [
    {
     "data": {
      "image/png": "[encoded data removed]",
      "text/plain": [
       "<matplotlib.figure.Figure at 0x7fdd649db470>"
      ]
     },
     "metadata": {
      "needs_background": "light"
     },
     "output_type": "display_data"
    }
   ],
   "source": [
    "churn_sum_level = level_df.groupby('churn', as_index=False).sum()\n",
    "level_df['proportion'] = (level_df.join(churn_sum_level, on = 'churn', lsuffix='_1')['count_1'] /\n",
    "                          level_df.join(churn_sum_level, on = 'churn', lsuffix='_1')['count']) * 100\n",
    "\n",
    "g = sns.barplot(x=\"churn\", y=\"proportion\", hue=\"level\", data=level_df, palette=\"deep\")\n",
    "g.set(xlabel='Churn', ylabel=\"Proportion\")\n",
    "plt.show();"
   ]
  },
  {
   "cell_type": "code",
   "execution_count": 34,
   "metadata": {},
   "outputs": [],
   "source": [
    "# Looks like there isn't much of a difference between free and paid accounts and churn"
   ]
  },
  {
   "cell_type": "code",
   "execution_count": 35,
   "metadata": {},
   "outputs": [],
   "source": [
    "# Build a visualisation for the level amounts based on proportion\n",
    "gender_df = spark.sql('SELECT churn, gender, COUNT(gender) AS count FROM churn_full GROUP BY 1, 2').toPandas()"
   ]
  },
  {
   "cell_type": "code",
   "execution_count": 36,
   "metadata": {},
   "outputs": [
    {
     "data": {
      "image/png": "[encoded data removed]",
      "text/plain": [
       "<matplotlib.figure.Figure at 0x7fdd641a9860>"
      ]
     },
     "metadata": {
      "needs_background": "light"
     },
     "output_type": "display_data"
    }
   ],
   "source": [
    "churn_sum_gender = level_df.groupby('churn', as_index=False).sum()\n",
    "gender_df['proportion'] = (gender_df.join(churn_sum_gender, on = 'churn', lsuffix='_1')['count_1'] /\n",
    "                          gender_df.join(churn_sum_gender, on = 'churn', lsuffix='_1')['count']) * 100\n",
    "\n",
    "g = sns.barplot(x=\"churn\", y=\"proportion\", hue=\"gender\", data=gender_df, palette=\"deep\")\n",
    "g.set(xlabel='Churn', ylabel=\"Proportion\")\n",
    "plt.show();"
   ]
  },
  {
   "cell_type": "code",
   "execution_count": 37,
   "metadata": {},
   "outputs": [],
   "source": [
    "# Looks like there is a skew towards males churning from sparkify"
   ]
  },
  {
   "cell_type": "code",
   "execution_count": 38,
   "metadata": {},
   "outputs": [],
   "source": [
    "# Taking into account timestamp of usage per user to get a profile of listening habits\n",
    "# Use the factor 24 * 60 * 60 * 1000 to get songs and artists per day\n",
    "listens_df = spark.sql(\"\"\"\n",
    "    SELECT\n",
    "        userId,\n",
    "        churn,\n",
    "        COUNT(DISTINCT song)*24*60*60*1000 / (MAX(ts) - MIN(ts)) AS songs_per_day,\n",
    "        COUNT(DISTINCT artist)*24*60*60*1000 / (MAX(ts) - MIN(ts)) AS artists_per_day\n",
    "    FROM churn_full\n",
    "    GROUP BY 1, 2\n",
    "    \"\"\")"
   ]
  },
  {
   "cell_type": "code",
   "execution_count": 39,
   "metadata": {},
   "outputs": [
    {
     "name": "stdout",
     "output_type": "stream",
     "text": [
      "+-----+------------------+--------------------+\n",
      "|churn|avg(songs_per_day)|avg(artists_per_day)|\n",
      "+-----+------------------+--------------------+\n",
      "|    1|  72.0604862381857|   67.20742535555526|\n",
      "|    0|  37.7352567773026|  33.228669029410725|\n",
      "+-----+------------------+--------------------+\n",
      "\n"
     ]
    }
   ],
   "source": [
    "listens_df.groupBy('churn').avg('songs_per_day', 'artists_per_day').show()"
   ]
  },
  {
   "cell_type": "code",
   "execution_count": 40,
   "metadata": {},
   "outputs": [],
   "source": [
    "# Looks like churned users have a significantly higher listen amount than non churned users (Twice as much!)"
   ]
  },
  {
   "cell_type": "code",
   "execution_count": 41,
   "metadata": {},
   "outputs": [
    {
     "name": "stdout",
     "output_type": "stream",
     "text": [
      "+---------------+-------------------+------------------+\n",
      "|           page|        not_churned|           churned|\n",
      "+---------------+-------------------+------------------+\n",
      "|    Thumbs Down|0.38293079179123285|1.9586845420537815|\n",
      "|    Roll Advert|  2.322173563830428| 7.421197238752865|\n",
      "|         Logout| 0.6232522709436888|0.9897750320170381|\n",
      "|       Settings| 1.6359780188628494| 2.646798254413769|\n",
      "|Add to Playlist| 1.1067587873838935| 2.934686315424889|\n",
      "|     Add Friend| 0.6927238019914513|2.3511324917873107|\n",
      "|       NextSong|  40.20637559224469| 74.53310132166251|\n",
      "|      Thumbs Up| 1.9609748660000539| 4.880878647903342|\n",
      "|           Help|0.26372036479048094|0.3270910329069824|\n",
      "+---------------+-------------------+------------------+\n",
      "\n"
     ]
    }
   ],
   "source": [
    "# Deep diving into this by breaking down the user page daily usage amounts for churned vs not churned users\n",
    "\n",
    "# First get the page counts per user\n",
    "page_counts_df = spark.sql(\n",
    "    \"\"\"SELECT \n",
    "        userId,\n",
    "        churn,\n",
    "        page,\n",
    "        COUNT(*) AS page_count\n",
    "    FROM churn_full\n",
    "    WHERE page IN ('Add Friend', 'Add to Playlist', 'Help', 'Login', 'Logout', 'NextSong', 'Roll Advert',\n",
    "        'Settings','Thumbs Down', 'Thumbs Up')\n",
    "    GROUP BY 1, 2, 3\"\"\")\n",
    "\n",
    "# Get the days active per user\n",
    "days_active_df = spark.sql(\n",
    "    \"\"\"SELECT \n",
    "        userId,\n",
    "        (MAX(ts) - MIN(ts)) / (24 * 60 * 60 * 1000) AS days_active\n",
    "    FROM churn_full\n",
    "    GROUP BY userId\"\"\")\n",
    "\n",
    "# Join these two dataframes together and get the active pages per day amount to describe user behaviour\n",
    "page_activity_df = page_counts_df.join(days_active_df, \"userId\", \"inner\")\n",
    "page_activity_df = page_activity_df.withColumn('pages_per_day', page_activity_df.page_count / page_activity_df.days_active)\n",
    "\n",
    "# Aggregate this amount over the users by using a pivot\n",
    "page_activity_agg_df = page_activity_df.groupBy('page').pivot('churn').avg('pages_per_day')\n",
    "\n",
    "page_activity_agg_df = page_activity_agg_df.withColumnRenamed('0', 'not_churned')\n",
    "page_activity_agg_df = page_activity_agg_df.withColumnRenamed('1', 'churned')\n",
    "\n",
    "page_activity_agg_df.show()"
   ]
  },
  {
   "cell_type": "code",
   "execution_count": 42,
   "metadata": {},
   "outputs": [],
   "source": [
    "# The above aggregation of user page activity reveals a lot of interesting information!\n",
    "# 1.) It seems that general usage for people that churn is much higher than users that didn't churn\n",
    "# 2.) There are about three times as many advert rolls for churned users than non-churned users, this could be one\n",
    "#     of the reasons that users decided to churn in the first place\n",
    "# 3.) Churned users thumbs up'd about 2.5 times as many songs as not churned users, but more interestingly users that\n",
    "#     churned thumbs down'd songs over 5 times more than not churned users. Meaning that churned users more signifcantly\n",
    "#     disliked the songs than not churned users. A stat that could have led to the churn in the first place (alongside 2)"
   ]
  },
  {
   "cell_type": "code",
   "execution_count": 43,
   "metadata": {},
   "outputs": [
    {
     "data": {
      "text/plain": [
       "<seaborn.axisgrid.FacetGrid at 0x7fdd641a9e80>"
      ]
     },
     "execution_count": 43,
     "metadata": {},
     "output_type": "execute_result"
    },
    {
     "data": {
      "image/png": "[encoded data removed]",
      "text/plain": [
       "<matplotlib.figure.Figure at 0x7fdd6416bcc0>"
      ]
     },
     "metadata": {
      "needs_background": "light"
     },
     "output_type": "display_data"
    }
   ],
   "source": [
    "# A plot of the above would be a lot easier in helping visualise (and blog about :P) the above\n",
    "\n",
    "# Put dataframe into Pandas dataframe and then melt for visualisation formatting\n",
    "pd_df = page_activity_agg_df.toPandas()\n",
    "usage_plot_df = pd.melt(pd_df, id_vars=\"page\", var_name=\"churn_or_not\", value_name=\"pages_per_day\")\n",
    "\n",
    "# Dropping 'NextSong' page as it was too large, and not useful to visualisation or analysis\n",
    "usage_plot_df = usage_plot_df[usage_plot_df.page != 'NextSong']\n",
    "\n",
    "# Present table in factorplot\n",
    "sns.factorplot(x='page', y='pages_per_day', hue='churn_or_not', data=usage_plot_df, kind='bar',\n",
    "               palette='deep', size=4, aspect=4)"
   ]
  },
  {
   "cell_type": "markdown",
   "metadata": {},
   "source": [
    "# Feature Engineering\n",
    "Once you've familiarized yourself with the data, build out the features you find promising to train your model on. To work with the full dataset, you can follow the following steps.\n",
    "- Write a script to extract the necessary features from the smaller subset of data\n",
    "- Ensure that your script is scalable, using the best practices discussed in Lesson 3\n",
    "- Try your script on the full data set, debugging your script if necessary\n",
    "\n",
    "If you are working in the classroom workspace, you can just extract features based on the small subset of data contained here. Be sure to transfer over this work to the larger dataset when you work on your Spark cluster."
   ]
  },
  {
   "cell_type": "code",
   "execution_count": 44,
   "metadata": {},
   "outputs": [],
   "source": [
    "# To get the per user by churn page usage counts\n",
    "page_usage = page_counts_df.groupBy('userId', 'churn').pivot('page',\\\n",
    "                            ['Add Friend','Add to Playlist','Help','Logout','NextSong','Roll Advert',\\\n",
    "                             'Settings','Thumbs Down','Thumbs Up']).sum('page_count')\n",
    "\n",
    "# Fill non usages with 0\n",
    "page_usage_filled = page_usage.fillna(0)\n",
    "\n",
    "# Rename columns and make into DataFrame\n",
    "user_page_usage_df = page_usage_filled.toDF('userId','churn','add_friend_page_usage','add_to_playlist_page_usage',\\\n",
    "                                               'help_page_usage','logout_page_usage','next_song_page_usage',\\\n",
    "                                               'roll_advert_page_usage','setting_page_usage','thumbs_down_page_usage',\\\n",
    "                                               'thumbs_up_page_usage')"
   ]
  },
  {
   "cell_type": "code",
   "execution_count": 45,
   "metadata": {},
   "outputs": [
    {
     "data": {
      "text/html": [
       "<div>\n",
       "<style scoped>\n",
       "    .dataframe tbody tr th:only-of-type {\n",
       "        vertical-align: middle;\n",
       "    }\n",
       "\n",
       "    .dataframe tbody tr th {\n",
       "        vertical-align: top;\n",
       "    }\n",
       "\n",
       "    .dataframe thead th {\n",
       "        text-align: right;\n",
       "    }\n",
       "</style>\n",
       "<table border=\"1\" class=\"dataframe\">\n",
       "  <thead>\n",
       "    <tr style=\"text-align: right;\">\n",
       "      <th></th>\n",
       "      <th>userId</th>\n",
       "      <th>churn</th>\n",
       "      <th>add_friend_page_usage</th>\n",
       "      <th>add_to_playlist_page_usage</th>\n",
       "      <th>help_page_usage</th>\n",
       "      <th>logout_page_usage</th>\n",
       "      <th>next_song_page_usage</th>\n",
       "      <th>roll_advert_page_usage</th>\n",
       "      <th>setting_page_usage</th>\n",
       "      <th>thumbs_down_page_usage</th>\n",
       "      <th>thumbs_up_page_usage</th>\n",
       "    </tr>\n",
       "  </thead>\n",
       "  <tbody>\n",
       "    <tr>\n",
       "      <th>1</th>\n",
       "      <td>200002</td>\n",
       "      <td>0</td>\n",
       "      <td>4</td>\n",
       "      <td>8</td>\n",
       "      <td>2</td>\n",
       "      <td>5</td>\n",
       "      <td>387</td>\n",
       "      <td>7</td>\n",
       "      <td>3</td>\n",
       "      <td>6</td>\n",
       "      <td>21</td>\n",
       "    </tr>\n",
       "    <tr>\n",
       "      <th>2</th>\n",
       "      <td>125</td>\n",
       "      <td>1</td>\n",
       "      <td>0</td>\n",
       "      <td>0</td>\n",
       "      <td>0</td>\n",
       "      <td>0</td>\n",
       "      <td>8</td>\n",
       "      <td>1</td>\n",
       "      <td>0</td>\n",
       "      <td>0</td>\n",
       "      <td>0</td>\n",
       "    </tr>\n",
       "    <tr>\n",
       "      <th>3</th>\n",
       "      <td>124</td>\n",
       "      <td>0</td>\n",
       "      <td>74</td>\n",
       "      <td>118</td>\n",
       "      <td>23</td>\n",
       "      <td>59</td>\n",
       "      <td>4079</td>\n",
       "      <td>4</td>\n",
       "      <td>20</td>\n",
       "      <td>41</td>\n",
       "      <td>171</td>\n",
       "    </tr>\n",
       "    <tr>\n",
       "      <th>4</th>\n",
       "      <td>51</td>\n",
       "      <td>1</td>\n",
       "      <td>28</td>\n",
       "      <td>52</td>\n",
       "      <td>12</td>\n",
       "      <td>24</td>\n",
       "      <td>2111</td>\n",
       "      <td>0</td>\n",
       "      <td>12</td>\n",
       "      <td>21</td>\n",
       "      <td>100</td>\n",
       "    </tr>\n",
       "  </tbody>\n",
       "</table>\n",
       "</div>"
      ],
      "text/plain": [
       "   userId  churn  add_friend_page_usage  add_to_playlist_page_usage  \\\n",
       "1  200002      0                      4                           8   \n",
       "2     125      1                      0                           0   \n",
       "3     124      0                     74                         118   \n",
       "4      51      1                     28                          52   \n",
       "\n",
       "   help_page_usage  logout_page_usage  next_song_page_usage  \\\n",
       "1                2                  5                   387   \n",
       "2                0                  0                     8   \n",
       "3               23                 59                  4079   \n",
       "4               12                 24                  2111   \n",
       "\n",
       "   roll_advert_page_usage  setting_page_usage  thumbs_down_page_usage  \\\n",
       "1                       7                   3                       6   \n",
       "2                       1                   0                       0   \n",
       "3                       4                  20                      41   \n",
       "4                       0                  12                      21   \n",
       "\n",
       "   thumbs_up_page_usage  \n",
       "1                    21  \n",
       "2                     0  \n",
       "3                   171  \n",
       "4                   100  "
      ]
     },
     "execution_count": 45,
     "metadata": {},
     "output_type": "execute_result"
    }
   ],
   "source": [
    "# Checking to make sure the dataframe looks alright\n",
    "user_page_usage_df.toPandas().iloc[1:5,:]"
   ]
  },
  {
   "cell_type": "code",
   "execution_count": 46,
   "metadata": {},
   "outputs": [],
   "source": [
    "# To get the gender flag\n",
    "gender_flag = spark.sql(\"\"\"\n",
    "    SELECT\n",
    "        userId,\n",
    "        churn,\n",
    "        gender,\n",
    "        IF(gender = 'M', 1, 0) AS gender_flag\n",
    "    FROM churn_full\n",
    "    GROUP BY 1, 2, 3\"\"\")"
   ]
  },
  {
   "cell_type": "code",
   "execution_count": 47,
   "metadata": {},
   "outputs": [
    {
     "data": {
      "text/html": [
       "<div>\n",
       "<style scoped>\n",
       "    .dataframe tbody tr th:only-of-type {\n",
       "        vertical-align: middle;\n",
       "    }\n",
       "\n",
       "    .dataframe tbody tr th {\n",
       "        vertical-align: top;\n",
       "    }\n",
       "\n",
       "    .dataframe thead th {\n",
       "        text-align: right;\n",
       "    }\n",
       "</style>\n",
       "<table border=\"1\" class=\"dataframe\">\n",
       "  <thead>\n",
       "    <tr style=\"text-align: right;\">\n",
       "      <th></th>\n",
       "      <th>userId</th>\n",
       "      <th>churn</th>\n",
       "      <th>gender</th>\n",
       "      <th>gender_flag</th>\n",
       "    </tr>\n",
       "  </thead>\n",
       "  <tbody>\n",
       "    <tr>\n",
       "      <th>1</th>\n",
       "      <td>200002</td>\n",
       "      <td>0</td>\n",
       "      <td>M</td>\n",
       "      <td>1</td>\n",
       "    </tr>\n",
       "    <tr>\n",
       "      <th>2</th>\n",
       "      <td>125</td>\n",
       "      <td>1</td>\n",
       "      <td>M</td>\n",
       "      <td>1</td>\n",
       "    </tr>\n",
       "    <tr>\n",
       "      <th>3</th>\n",
       "      <td>124</td>\n",
       "      <td>0</td>\n",
       "      <td>F</td>\n",
       "      <td>0</td>\n",
       "    </tr>\n",
       "    <tr>\n",
       "      <th>4</th>\n",
       "      <td>51</td>\n",
       "      <td>1</td>\n",
       "      <td>M</td>\n",
       "      <td>1</td>\n",
       "    </tr>\n",
       "    <tr>\n",
       "      <th>5</th>\n",
       "      <td>7</td>\n",
       "      <td>0</td>\n",
       "      <td>M</td>\n",
       "      <td>1</td>\n",
       "    </tr>\n",
       "    <tr>\n",
       "      <th>6</th>\n",
       "      <td>15</td>\n",
       "      <td>0</td>\n",
       "      <td>M</td>\n",
       "      <td>1</td>\n",
       "    </tr>\n",
       "    <tr>\n",
       "      <th>7</th>\n",
       "      <td>54</td>\n",
       "      <td>1</td>\n",
       "      <td>F</td>\n",
       "      <td>0</td>\n",
       "    </tr>\n",
       "    <tr>\n",
       "      <th>8</th>\n",
       "      <td>155</td>\n",
       "      <td>0</td>\n",
       "      <td>F</td>\n",
       "      <td>0</td>\n",
       "    </tr>\n",
       "    <tr>\n",
       "      <th>9</th>\n",
       "      <td>100014</td>\n",
       "      <td>1</td>\n",
       "      <td>M</td>\n",
       "      <td>1</td>\n",
       "    </tr>\n",
       "  </tbody>\n",
       "</table>\n",
       "</div>"
      ],
      "text/plain": [
       "   userId  churn gender  gender_flag\n",
       "1  200002      0      M            1\n",
       "2     125      1      M            1\n",
       "3     124      0      F            0\n",
       "4      51      1      M            1\n",
       "5       7      0      M            1\n",
       "6      15      0      M            1\n",
       "7      54      1      F            0\n",
       "8     155      0      F            0\n",
       "9  100014      1      M            1"
      ]
     },
     "execution_count": 47,
     "metadata": {},
     "output_type": "execute_result"
    }
   ],
   "source": [
    "# Sanity checking the SQL results\n",
    "gender_flag.toPandas().iloc[1:10,:]"
   ]
  },
  {
   "cell_type": "code",
   "execution_count": 48,
   "metadata": {},
   "outputs": [],
   "source": [
    "# Joining together the dataframes to get the modelling dataset\n",
    "# listens_df = songs_artists_df\n",
    "# #  = user_sessions_duration_df\n",
    "# user_page_usage_df = user_page_rate_df\n",
    "# gender_flag = user_genderFlag_df\n",
    "\n",
    "modelling_dataset_df = listens_df.join(user_page_usage_df.drop('churn'), \"userId\", \"inner\")\\\n",
    "    .join(gender_flag.drop('churn').drop('gender'), \"userId\", \"inner\")"
   ]
  },
  {
   "cell_type": "code",
   "execution_count": 49,
   "metadata": {},
   "outputs": [
    {
     "data": {
      "text/html": [
       "<div>\n",
       "<style scoped>\n",
       "    .dataframe tbody tr th:only-of-type {\n",
       "        vertical-align: middle;\n",
       "    }\n",
       "\n",
       "    .dataframe tbody tr th {\n",
       "        vertical-align: top;\n",
       "    }\n",
       "\n",
       "    .dataframe thead th {\n",
       "        text-align: right;\n",
       "    }\n",
       "</style>\n",
       "<table border=\"1\" class=\"dataframe\">\n",
       "  <thead>\n",
       "    <tr style=\"text-align: right;\">\n",
       "      <th></th>\n",
       "      <th>userId</th>\n",
       "      <th>churn</th>\n",
       "      <th>songs_per_day</th>\n",
       "      <th>artists_per_day</th>\n",
       "      <th>add_friend_page_usage</th>\n",
       "      <th>add_to_playlist_page_usage</th>\n",
       "      <th>help_page_usage</th>\n",
       "      <th>logout_page_usage</th>\n",
       "      <th>next_song_page_usage</th>\n",
       "      <th>roll_advert_page_usage</th>\n",
       "      <th>setting_page_usage</th>\n",
       "      <th>thumbs_down_page_usage</th>\n",
       "      <th>thumbs_up_page_usage</th>\n",
       "      <th>gender_flag</th>\n",
       "    </tr>\n",
       "  </thead>\n",
       "  <tbody>\n",
       "    <tr>\n",
       "      <th>1</th>\n",
       "      <td>200002</td>\n",
       "      <td>0</td>\n",
       "      <td>8.308276</td>\n",
       "      <td>7.451073</td>\n",
       "      <td>4</td>\n",
       "      <td>8</td>\n",
       "      <td>2</td>\n",
       "      <td>5</td>\n",
       "      <td>387</td>\n",
       "      <td>7</td>\n",
       "      <td>3</td>\n",
       "      <td>6</td>\n",
       "      <td>21</td>\n",
       "      <td>1</td>\n",
       "    </tr>\n",
       "    <tr>\n",
       "      <th>2</th>\n",
       "      <td>125</td>\n",
       "      <td>1</td>\n",
       "      <td>389.627959</td>\n",
       "      <td>389.627959</td>\n",
       "      <td>0</td>\n",
       "      <td>0</td>\n",
       "      <td>0</td>\n",
       "      <td>0</td>\n",
       "      <td>8</td>\n",
       "      <td>1</td>\n",
       "      <td>0</td>\n",
       "      <td>0</td>\n",
       "      <td>0</td>\n",
       "      <td>1</td>\n",
       "    </tr>\n",
       "    <tr>\n",
       "      <th>3</th>\n",
       "      <td>124</td>\n",
       "      <td>0</td>\n",
       "      <td>55.652834</td>\n",
       "      <td>37.201895</td>\n",
       "      <td>74</td>\n",
       "      <td>118</td>\n",
       "      <td>23</td>\n",
       "      <td>59</td>\n",
       "      <td>4079</td>\n",
       "      <td>4</td>\n",
       "      <td>20</td>\n",
       "      <td>41</td>\n",
       "      <td>171</td>\n",
       "      <td>0</td>\n",
       "    </tr>\n",
       "    <tr>\n",
       "      <th>4</th>\n",
       "      <td>51</td>\n",
       "      <td>1</td>\n",
       "      <td>117.494976</td>\n",
       "      <td>87.772676</td>\n",
       "      <td>28</td>\n",
       "      <td>52</td>\n",
       "      <td>12</td>\n",
       "      <td>24</td>\n",
       "      <td>2111</td>\n",
       "      <td>0</td>\n",
       "      <td>12</td>\n",
       "      <td>21</td>\n",
       "      <td>100</td>\n",
       "      <td>1</td>\n",
       "    </tr>\n",
       "  </tbody>\n",
       "</table>\n",
       "</div>"
      ],
      "text/plain": [
       "   userId  churn  songs_per_day  artists_per_day  add_friend_page_usage  \\\n",
       "1  200002      0       8.308276         7.451073                      4   \n",
       "2     125      1     389.627959       389.627959                      0   \n",
       "3     124      0      55.652834        37.201895                     74   \n",
       "4      51      1     117.494976        87.772676                     28   \n",
       "\n",
       "   add_to_playlist_page_usage  help_page_usage  logout_page_usage  \\\n",
       "1                           8                2                  5   \n",
       "2                           0                0                  0   \n",
       "3                         118               23                 59   \n",
       "4                          52               12                 24   \n",
       "\n",
       "   next_song_page_usage  roll_advert_page_usage  setting_page_usage  \\\n",
       "1                   387                       7                   3   \n",
       "2                     8                       1                   0   \n",
       "3                  4079                       4                  20   \n",
       "4                  2111                       0                  12   \n",
       "\n",
       "   thumbs_down_page_usage  thumbs_up_page_usage  gender_flag  \n",
       "1                       6                    21            1  \n",
       "2                       0                     0            1  \n",
       "3                      41                   171            0  \n",
       "4                      21                   100            1  "
      ]
     },
     "execution_count": 49,
     "metadata": {},
     "output_type": "execute_result"
    }
   ],
   "source": [
    "# Sanity checking the modelling dataset\n",
    "modelling_dataset_df.toPandas().iloc[1:5,:]"
   ]
  },
  {
   "cell_type": "markdown",
   "metadata": {},
   "source": [
    "# Modeling\n",
    "Split the full dataset into train, test, and validation sets. Test out several of the machine learning methods you learned. Evaluate the accuracy of the various models, tuning parameters as necessary. Determine your winning model based on test accuracy and report results on the validation set. Since the churned users are a fairly small subset, I suggest using F1 score as the metric to optimize."
   ]
  },
  {
   "cell_type": "code",
   "execution_count": 50,
   "metadata": {},
   "outputs": [],
   "source": [
    "# Drop the userId column and get feature column names for Vector Assembler\n",
    "modelling_df = modelling_dataset_df.drop('userId')\n",
    "features_col_names = modelling_df.columns\n",
    "features_col_names.remove('churn')"
   ]
  },
  {
   "cell_type": "code",
   "execution_count": 51,
   "metadata": {},
   "outputs": [],
   "source": [
    "assembler = VectorAssembler().setInputCols(features_col_names).setOutputCol(\"features\")\n",
    "modelling_assember = assembler.transform(modelling_df)\n",
    "\n",
    "train_df, test_df = modelling_assember.randomSplit([0.80, 0.20], seed=47)"
   ]
  },
  {
   "cell_type": "code",
   "execution_count": 52,
   "metadata": {},
   "outputs": [],
   "source": [
    "def evaluate_model(model_type, model, data):\n",
    "    \n",
    "    '''\n",
    "    Input:\n",
    "        model_type - model type that was trained\n",
    "        model - the trained model\n",
    "        data - data to test model validation metrics against\n",
    "    \n",
    "    Output:\n",
    "        results - results of f1, recall, precision and accuracy testing metrics against model\n",
    "    '''\n",
    "\n",
    "    evaluator = MulticlassClassificationEvaluator(predictionCol=\"prediction\", labelCol=\"churn\", metricName=\"f1\")\n",
    "    evaluator.setMetricName(\"f1\")\n",
    "    \n",
    "    predictions = model.transform(data)\n",
    "\n",
    "    results = {}\n",
    "    results[\"model\"] = model_type\n",
    "    results[\"f1\"] = evaluator.evaluate(predictions, {evaluator.metricName:\"f1\"})\n",
    "    results[\"precision\"] = evaluator.evaluate(predictions, {evaluator.metricName:\"weightedPrecision\"})\n",
    "    results[\"recall\"] = evaluator.evaluate(predictions, {evaluator.metricName:\"weightedRecall\"})\n",
    "    results[\"accuracy\"] = evaluator.evaluate(predictions, {evaluator.metricName:\"accuracy\"})\n",
    "\n",
    "    return results"
   ]
  },
  {
   "cell_type": "code",
   "execution_count": 53,
   "metadata": {},
   "outputs": [],
   "source": [
    "def execute_model(model_type, train, test):\n",
    "    '''\n",
    "    Input:\n",
    "        model_type - specify model type to train\n",
    "        train - training data for model\n",
    "        test - testing data for model testing metrics (f1, recall, precision, accuracy)\n",
    "        \n",
    "    Output:\n",
    "        results\n",
    "    '''\n",
    "    \n",
    "    pipeline_stages = []\n",
    "    \n",
    "    scaler = MinMaxScaler(inputCol=\"features\", outputCol=\"scaledFeatures\")\n",
    "    pipeline_stages += [scaler]\n",
    " \n",
    "    evaltr = MulticlassClassificationEvaluator(predictionCol=\"prediction\", labelCol=\"churn\", metricName=\"f1\")\n",
    "\n",
    "    if model_type == \"LR\":\n",
    "        classifier = LogisticRegression(featuresCol = \"features\", labelCol = \"churn\")\n",
    "\n",
    "        param_grid = ParamGridBuilder().addGrid(classifier.maxIter, [50, 100, 150]) \\\n",
    "            .addGrid(classifier.threshold, [0.4, 0.5, 0.6]) \\\n",
    "            .build()\n",
    "    \n",
    "    elif model_type == \"RF\":\n",
    "        classifier = RandomForestClassifier(featuresCol = \"features\", labelCol = \"churn\",\n",
    "                                            featureSubsetStrategy=\"auto\", impurity='gini')\n",
    "\n",
    "        param_grid = ParamGridBuilder().addGrid(classifier.numTrees, [3, 4, 5]) \\\n",
    "            .addGrid(classifier.maxDepth, [5, 10, 20]) \\\n",
    "            .build()\n",
    "    \n",
    "    elif model_type == \"GB\":\n",
    "        classifier = GBTClassifier(featuresCol = \"features\", labelCol = \"churn\")\n",
    "\n",
    "        param_grid = ParamGridBuilder().addGrid(classifier.maxIter, [10, 20, 30]) \\\n",
    "            .addGrid(classifier.maxDepth, [5, 10, 20]) \\\n",
    "            .build()\n",
    " \n",
    "    cv = CrossValidator(estimator = classifier, estimatorParamMaps = param_grid, evaluator = evaltr, numFolds = 5)\n",
    "\n",
    "    pipeline_stages.append(classifier)    \n",
    "    pipeline = Pipeline(stages = pipeline_stages)\n",
    "    model = pipeline.fit(train)\n",
    "    \n",
    "    return model, evaluate_model(model_type, model, test)"
   ]
  },
  {
   "cell_type": "code",
   "execution_count": 54,
   "metadata": {},
   "outputs": [
    {
     "data": {
      "text/plain": [
       "{'model': 'LR',\n",
       " 'f1': 0.7272633744855966,\n",
       " 'precision': 0.7277462121212122,\n",
       " 'recall': 0.7708333333333333,\n",
       " 'accuracy': 0.7708333333333334}"
      ]
     },
     "execution_count": 54,
     "metadata": {},
     "output_type": "execute_result"
    }
   ],
   "source": [
    "lr_model, logistic_regression_results = execute_model('LR', train_df, test_df)\n",
    "logistic_regression_results"
   ]
  },
  {
   "cell_type": "code",
   "execution_count": 55,
   "metadata": {},
   "outputs": [
    {
     "data": {
      "text/plain": [
       "{'model': 'RF',\n",
       " 'f1': 0.8190883190883191,\n",
       " 'precision': 0.8217189314750291,\n",
       " 'recall': 0.8333333333333333,\n",
       " 'accuracy': 0.8333333333333334}"
      ]
     },
     "execution_count": 55,
     "metadata": {},
     "output_type": "execute_result"
    }
   ],
   "source": [
    "rf_model, random_forest_results = execute_model('RF', train_df, test_df)\n",
    "random_forest_results"
   ]
  },
  {
   "cell_type": "code",
   "execution_count": 56,
   "metadata": {},
   "outputs": [
    {
     "data": {
      "text/plain": [
       "{'model': 'GB',\n",
       " 'f1': 0.7742455826881081,\n",
       " 'precision': 0.7783564814814816,\n",
       " 'recall': 0.7708333333333334,\n",
       " 'accuracy': 0.7708333333333334}"
      ]
     },
     "execution_count": 56,
     "metadata": {},
     "output_type": "execute_result"
    }
   ],
   "source": [
    "gb_model, gradient_boosted_tree_results = execute_model('GB', train_df, test_df)\n",
    "gradient_boosted_tree_results"
   ]
  },
  {
   "cell_type": "code",
   "execution_count": 57,
   "metadata": {},
   "outputs": [
    {
     "name": "stdout",
     "output_type": "stream",
     "text": [
      "+-----+------------------+------------------+------------------+------------------+\n",
      "|model|                f1|         precision|            recall|          accuracy|\n",
      "+-----+------------------+------------------+------------------+------------------+\n",
      "|   LR|0.7272633744855966|0.7277462121212122|0.7708333333333333|0.7708333333333334|\n",
      "|   RF|0.8190883190883191|0.8217189314750291|0.8333333333333333|0.8333333333333334|\n",
      "|   GB|0.7742455826881081|0.7783564814814816|0.7708333333333334|0.7708333333333334|\n",
      "+-----+------------------+------------------+------------------+------------------+\n",
      "\n"
     ]
    }
   ],
   "source": [
    "results_df = spark.read.json(spark.sparkContext\n",
    "    .parallelize([logistic_regression_results, random_forest_results, gradient_boosted_tree_results])) \\\n",
    "    .select(\"model\", \"f1\", \"precision\", \"recall\", \"accuracy\") \\\n",
    "    .show()"
   ]
  },
  {
   "cell_type": "code",
   "execution_count": 58,
   "metadata": {},
   "outputs": [],
   "source": [
    "# Random Forest had best F1 score and Accuracy results"
   ]
  },
  {
   "cell_type": "markdown",
   "metadata": {},
   "source": [
    "# Final Steps\n",
    "Clean up your code, adding comments and renaming variables to make the code easier to read and maintain. Refer to the Spark Project Overview page and Data Scientist Capstone Project Rubric to make sure you are including all components of the capstone project and meet all expectations. Remember, this includes thorough documentation in a README file in a Github repository, as well as a web app or blog post."
   ]
  },
  {
   "cell_type": "code",
   "execution_count": null,
   "metadata": {},
   "outputs": [],
   "source": []
  }
 ],
 "metadata": {
  "kernelspec": {
   "display_name": "Python 3",
   "language": "python",
   "name": "python3"
  },
  "language_info": {
   "codemirror_mode": {
    "name": "ipython",
    "version": 3
   },
   "file_extension": ".py",
   "mimetype": "text/x-python",
   "name": "python",
   "nbconvert_exporter": "python",
   "pygments_lexer": "ipython3",
   "version": "3.6.3"
  }
 },
 "nbformat": 4,
 "nbformat_minor": 2
}
